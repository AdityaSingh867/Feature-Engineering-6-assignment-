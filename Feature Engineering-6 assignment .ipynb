{
 "cells": [
  {
   "cell_type": "markdown",
   "id": "d5964e39-c65f-4cf9-898f-8a5e09084e7e",
   "metadata": {},
   "source": [
    "Q1. Pearson correlation coefficient is a measure of the linear relationship between two variables. Suppose\n",
    "you have collected data on the amount of time students spend studying for an exam and their final exam\n",
    "scores. Calculate the Pearson correlation coefficient between these two variables and interpret the result."
   ]
  },
  {
   "cell_type": "code",
   "execution_count": 29,
   "id": "2094fdf6-6d71-4dae-8f3b-af9eec19af72",
   "metadata": {},
   "outputs": [],
   "source": [
    "df = pd.DataFrame({\n",
    "    \n",
    "    'Time_Spent_hours' : [18, 23, 8, 14, 12, 17, 9, 21, 16, 6, 20, 10, 13, 19, 7, 15, 11, 22, 25, 5] , \n",
    "    'Exam_Score_out_of_100' : [78, 92, 50, 68, 62, 82, 55, 85, 75, 40, 88, 60, 70, 86, 45, 72, 63, 91, 96, 35]\n",
    "\n",
    "})"
   ]
  },
  {
   "cell_type": "code",
   "execution_count": 30,
   "id": "f146df7e-9282-4a45-aba1-732c5c9f7098",
   "metadata": {},
   "outputs": [
    {
     "data": {
      "text/html": [
       "<div>\n",
       "<style scoped>\n",
       "    .dataframe tbody tr th:only-of-type {\n",
       "        vertical-align: middle;\n",
       "    }\n",
       "\n",
       "    .dataframe tbody tr th {\n",
       "        vertical-align: top;\n",
       "    }\n",
       "\n",
       "    .dataframe thead th {\n",
       "        text-align: right;\n",
       "    }\n",
       "</style>\n",
       "<table border=\"1\" class=\"dataframe\">\n",
       "  <thead>\n",
       "    <tr style=\"text-align: right;\">\n",
       "      <th></th>\n",
       "      <th>Time_Spent_hours</th>\n",
       "      <th>Exam_Score_out_of_100</th>\n",
       "    </tr>\n",
       "  </thead>\n",
       "  <tbody>\n",
       "    <tr>\n",
       "      <th>Time_Spent_hours</th>\n",
       "      <td>1.000000</td>\n",
       "      <td>0.982914</td>\n",
       "    </tr>\n",
       "    <tr>\n",
       "      <th>Exam_Score_out_of_100</th>\n",
       "      <td>0.982914</td>\n",
       "      <td>1.000000</td>\n",
       "    </tr>\n",
       "  </tbody>\n",
       "</table>\n",
       "</div>"
      ],
      "text/plain": [
       "                       Time_Spent_hours  Exam_Score_out_of_100\n",
       "Time_Spent_hours               1.000000               0.982914\n",
       "Exam_Score_out_of_100          0.982914               1.000000"
      ]
     },
     "execution_count": 30,
     "metadata": {},
     "output_type": "execute_result"
    }
   ],
   "source": [
    "df.corr(method='pearson')"
   ]
  },
  {
   "cell_type": "markdown",
   "id": "44ba86d9-17c0-4637-955a-3522bef31b72",
   "metadata": {},
   "source": [
    "Q2. Spearman's rank correlation is a measure of the monotonic relationship between two variables.\n",
    "Suppose you have collected data on the amount of sleep individuals get each night and their overall job\n",
    "satisfaction level on a scale of 1 to 10. Calculate the Spearman's rank correlation between these two\n",
    "variables and interpret the result."
   ]
  },
  {
   "cell_type": "code",
   "execution_count": 1,
   "id": "bf2e6c1c-28d1-40d4-92fa-d9dc169bf808",
   "metadata": {},
   "outputs": [],
   "source": [
    "import pandas as pd"
   ]
  },
  {
   "cell_type": "code",
   "execution_count": 7,
   "id": "9fafc9b9-580d-4e12-8ae6-80b0844b61da",
   "metadata": {},
   "outputs": [],
   "source": [
    "df = pd.DataFrame({\n",
    "    \n",
    "    'Name' : ['A' , 'B' , 'C' , 'R' , 'L'] ,\n",
    "    'night_sleep_hours' : [ 6 , 7 , 5 ,8  ,6 ] ,\n",
    "    'job_satisfaction_level' : [5 , 7.5 , 4 , 10 , 6]\n",
    "\n",
    "})"
   ]
  },
  {
   "cell_type": "code",
   "execution_count": 8,
   "id": "9b112b2d-8621-4be3-a645-47b7e958bd4f",
   "metadata": {},
   "outputs": [
    {
     "data": {
      "text/html": [
       "<div>\n",
       "<style scoped>\n",
       "    .dataframe tbody tr th:only-of-type {\n",
       "        vertical-align: middle;\n",
       "    }\n",
       "\n",
       "    .dataframe tbody tr th {\n",
       "        vertical-align: top;\n",
       "    }\n",
       "\n",
       "    .dataframe thead th {\n",
       "        text-align: right;\n",
       "    }\n",
       "</style>\n",
       "<table border=\"1\" class=\"dataframe\">\n",
       "  <thead>\n",
       "    <tr style=\"text-align: right;\">\n",
       "      <th></th>\n",
       "      <th>Name</th>\n",
       "      <th>night_sleep_hours</th>\n",
       "      <th>job_satisfaction_level</th>\n",
       "    </tr>\n",
       "  </thead>\n",
       "  <tbody>\n",
       "    <tr>\n",
       "      <th>0</th>\n",
       "      <td>A</td>\n",
       "      <td>6</td>\n",
       "      <td>5.0</td>\n",
       "    </tr>\n",
       "    <tr>\n",
       "      <th>1</th>\n",
       "      <td>B</td>\n",
       "      <td>7</td>\n",
       "      <td>7.5</td>\n",
       "    </tr>\n",
       "    <tr>\n",
       "      <th>2</th>\n",
       "      <td>C</td>\n",
       "      <td>5</td>\n",
       "      <td>4.0</td>\n",
       "    </tr>\n",
       "    <tr>\n",
       "      <th>3</th>\n",
       "      <td>R</td>\n",
       "      <td>8</td>\n",
       "      <td>10.0</td>\n",
       "    </tr>\n",
       "    <tr>\n",
       "      <th>4</th>\n",
       "      <td>L</td>\n",
       "      <td>6</td>\n",
       "      <td>6.0</td>\n",
       "    </tr>\n",
       "  </tbody>\n",
       "</table>\n",
       "</div>"
      ],
      "text/plain": [
       "  Name  night_sleep_hours  job_satisfaction_level\n",
       "0    A                  6                     5.0\n",
       "1    B                  7                     7.5\n",
       "2    C                  5                     4.0\n",
       "3    R                  8                    10.0\n",
       "4    L                  6                     6.0"
      ]
     },
     "execution_count": 8,
     "metadata": {},
     "output_type": "execute_result"
    }
   ],
   "source": [
    "df"
   ]
  },
  {
   "cell_type": "code",
   "execution_count": 9,
   "id": "4295c202-8132-430f-9dcd-c163298856f5",
   "metadata": {},
   "outputs": [
    {
     "name": "stderr",
     "output_type": "stream",
     "text": [
      "/tmp/ipykernel_1443/1222267885.py:1: FutureWarning: The default value of numeric_only in DataFrame.corr is deprecated. In a future version, it will default to False. Select only valid columns or specify the value of numeric_only to silence this warning.\n",
      "  df.corr(method='spearman')\n"
     ]
    },
    {
     "data": {
      "text/html": [
       "<div>\n",
       "<style scoped>\n",
       "    .dataframe tbody tr th:only-of-type {\n",
       "        vertical-align: middle;\n",
       "    }\n",
       "\n",
       "    .dataframe tbody tr th {\n",
       "        vertical-align: top;\n",
       "    }\n",
       "\n",
       "    .dataframe thead th {\n",
       "        text-align: right;\n",
       "    }\n",
       "</style>\n",
       "<table border=\"1\" class=\"dataframe\">\n",
       "  <thead>\n",
       "    <tr style=\"text-align: right;\">\n",
       "      <th></th>\n",
       "      <th>night_sleep_hours</th>\n",
       "      <th>job_satisfaction_level</th>\n",
       "    </tr>\n",
       "  </thead>\n",
       "  <tbody>\n",
       "    <tr>\n",
       "      <th>night_sleep_hours</th>\n",
       "      <td>1.000000</td>\n",
       "      <td>0.974679</td>\n",
       "    </tr>\n",
       "    <tr>\n",
       "      <th>job_satisfaction_level</th>\n",
       "      <td>0.974679</td>\n",
       "      <td>1.000000</td>\n",
       "    </tr>\n",
       "  </tbody>\n",
       "</table>\n",
       "</div>"
      ],
      "text/plain": [
       "                        night_sleep_hours  job_satisfaction_level\n",
       "night_sleep_hours                1.000000                0.974679\n",
       "job_satisfaction_level           0.974679                1.000000"
      ]
     },
     "execution_count": 9,
     "metadata": {},
     "output_type": "execute_result"
    }
   ],
   "source": [
    "df.corr(method='spearman')"
   ]
  },
  {
   "cell_type": "markdown",
   "id": "df9aead8-6624-4a26-aa24-7104c1202f13",
   "metadata": {},
   "source": [
    "Q3. Suppose you are conducting a study to examine the relationship between the number of hours of\n",
    "exercise per week and body mass index (BMI) in a sample of adults. You collected data on both variables\n",
    "for 50 participants. Calculate the Pearson correlation coefficient and the Spearman's rank correlation\n",
    "between these two variables and compare the results."
   ]
  },
  {
   "cell_type": "code",
   "execution_count": 19,
   "id": "25c4a335-4894-4d5e-a599-4557218de676",
   "metadata": {},
   "outputs": [],
   "source": [
    "df = pd.DataFrame({\n",
    "    \n",
    "    'Hours_of_exercise' : [1.91, 1.58, 1.63, 2.23, 1.56, 1.63, 2.44, 2.22, 2.05, 2.05, 1.79, 1.75, 2.39, 2.11, 2.28, 1.81, 1.51, 2.34, 1.98, 2.06, 2.16, 1.81, 1.57, 1.80, 1.84, 2.08, 1.56, 2.22, 2.31, 1.56, 2.36, 2.12, 1.68, 1.81, 1.63, 2.26, 2.28, 1.95, 1.53, 2.16, 1.78, 2.38, 2.23, 2.27, 2.14, 1.53, 1.58, 2.08, 1.57, 2.20, 2.33] , \n",
    "    'BMI' : [27.03, 26.15, 24.67, 28.68, 24.84, 25.28, 27.89, 29.43, 24.34, 26.28, 24.08, 24.34, 25.45, 28.13, 27.81, 24.66, 25.06, 26.45, 25.53, 27.06, 24.47, 24.33, 27.56, 23.45, 28.32, 25.77, 25.56, 28.55, 26.98, 23.65, 25.52, 26.23, 27.43, 23.71, 24.57, 26.55, 28.24, 26.43, 24.22, 26.95, 24.89, 23.98, 24.84, 25.19, 25.03, 26.71, 25.89, 26.54, 27.19, 26.89, 25.66]\n",
    "\n",
    "})"
   ]
  },
  {
   "cell_type": "code",
   "execution_count": 20,
   "id": "c7efeed7-03d2-47f2-a20f-8c361f0721c8",
   "metadata": {},
   "outputs": [
    {
     "data": {
      "text/html": [
       "<div>\n",
       "<style scoped>\n",
       "    .dataframe tbody tr th:only-of-type {\n",
       "        vertical-align: middle;\n",
       "    }\n",
       "\n",
       "    .dataframe tbody tr th {\n",
       "        vertical-align: top;\n",
       "    }\n",
       "\n",
       "    .dataframe thead th {\n",
       "        text-align: right;\n",
       "    }\n",
       "</style>\n",
       "<table border=\"1\" class=\"dataframe\">\n",
       "  <thead>\n",
       "    <tr style=\"text-align: right;\">\n",
       "      <th></th>\n",
       "      <th>Hours_of_exercise</th>\n",
       "      <th>BMI</th>\n",
       "    </tr>\n",
       "  </thead>\n",
       "  <tbody>\n",
       "    <tr>\n",
       "      <th>0</th>\n",
       "      <td>1.91</td>\n",
       "      <td>27.03</td>\n",
       "    </tr>\n",
       "    <tr>\n",
       "      <th>1</th>\n",
       "      <td>1.58</td>\n",
       "      <td>26.15</td>\n",
       "    </tr>\n",
       "    <tr>\n",
       "      <th>2</th>\n",
       "      <td>1.63</td>\n",
       "      <td>24.67</td>\n",
       "    </tr>\n",
       "    <tr>\n",
       "      <th>3</th>\n",
       "      <td>2.23</td>\n",
       "      <td>28.68</td>\n",
       "    </tr>\n",
       "    <tr>\n",
       "      <th>4</th>\n",
       "      <td>1.56</td>\n",
       "      <td>24.84</td>\n",
       "    </tr>\n",
       "  </tbody>\n",
       "</table>\n",
       "</div>"
      ],
      "text/plain": [
       "   Hours_of_exercise    BMI\n",
       "0               1.91  27.03\n",
       "1               1.58  26.15\n",
       "2               1.63  24.67\n",
       "3               2.23  28.68\n",
       "4               1.56  24.84"
      ]
     },
     "execution_count": 20,
     "metadata": {},
     "output_type": "execute_result"
    }
   ],
   "source": [
    "df.head()"
   ]
  },
  {
   "cell_type": "code",
   "execution_count": 21,
   "id": "5013ee53-631a-4514-a4da-3e64e1549b0f",
   "metadata": {},
   "outputs": [
    {
     "data": {
      "text/html": [
       "<div>\n",
       "<style scoped>\n",
       "    .dataframe tbody tr th:only-of-type {\n",
       "        vertical-align: middle;\n",
       "    }\n",
       "\n",
       "    .dataframe tbody tr th {\n",
       "        vertical-align: top;\n",
       "    }\n",
       "\n",
       "    .dataframe thead th {\n",
       "        text-align: right;\n",
       "    }\n",
       "</style>\n",
       "<table border=\"1\" class=\"dataframe\">\n",
       "  <thead>\n",
       "    <tr style=\"text-align: right;\">\n",
       "      <th></th>\n",
       "      <th>Hours_of_exercise</th>\n",
       "      <th>BMI</th>\n",
       "    </tr>\n",
       "  </thead>\n",
       "  <tbody>\n",
       "    <tr>\n",
       "      <th>Hours_of_exercise</th>\n",
       "      <td>1.000000</td>\n",
       "      <td>0.332435</td>\n",
       "    </tr>\n",
       "    <tr>\n",
       "      <th>BMI</th>\n",
       "      <td>0.332435</td>\n",
       "      <td>1.000000</td>\n",
       "    </tr>\n",
       "  </tbody>\n",
       "</table>\n",
       "</div>"
      ],
      "text/plain": [
       "                   Hours_of_exercise       BMI\n",
       "Hours_of_exercise           1.000000  0.332435\n",
       "BMI                         0.332435  1.000000"
      ]
     },
     "execution_count": 21,
     "metadata": {},
     "output_type": "execute_result"
    }
   ],
   "source": [
    "df.corr(method='pearson')"
   ]
  },
  {
   "cell_type": "markdown",
   "id": "2ff1f4cb-c9b7-4e51-91ce-4fe22f92b970",
   "metadata": {},
   "source": [
    "Q4. A researcher is interested in examining the relationship between the number of hours individuals\n",
    "spend watching television per day and their level of physical activity. The researcher collected data on\n",
    "both variables from a sample of 50 participants. Calculate the Pearson correlation coefficient between\n",
    "these two variables."
   ]
  },
  {
   "cell_type": "code",
   "execution_count": 22,
   "id": "ce51e3c7-133c-4d69-a51d-7bd2fd2127cf",
   "metadata": {},
   "outputs": [],
   "source": [
    "df = pd.DataFrame({\n",
    "    \n",
    "    'watching_television_hours' : [2.5,1.6\t,1.9\t,2.3\t,2.2\t,1.2\t,1.5\t,1.8\t,2.1\t,2.0\t,2.2\t,2.4\t,1.8\t,1.7\t,2.3\t,1.6\t,2.0\t,2.4\t,1.5\t,2.1\t,2.2\t,1.9\t,1.6\t,1.4\t,2.3\t,2.4\t,1.2\t,2.0\t,1.8\t,1.7\t,2.1\t,2.2\t,2.3\t,1.9\t,1.5\t,1.6\t,2.4\t,2.0\t,2.2\t,1.8\t,1.4\t,1.9\t,2.1\t,2.3\t,2.4\t,1.5\t,1.7\t,1.6\t,2.0\t,1.8] , \n",
    "    'physical_activity_level_on_the_scale_of_1_10' : [8,6,7,5,9,2,3,7,5,6,8,4,3,9,4,2,8,7,1,6,7,4,9,3,5,7,2,5,7,8,6,4,5,9,3,6,4,8,7,2,1,5,7,6,8,3,5,6,4,2]\n",
    "\n",
    "})"
   ]
  },
  {
   "cell_type": "code",
   "execution_count": 23,
   "id": "714fbc4a-7905-46b9-a5b7-5aad32dfed1e",
   "metadata": {},
   "outputs": [
    {
     "data": {
      "text/html": [
       "<div>\n",
       "<style scoped>\n",
       "    .dataframe tbody tr th:only-of-type {\n",
       "        vertical-align: middle;\n",
       "    }\n",
       "\n",
       "    .dataframe tbody tr th {\n",
       "        vertical-align: top;\n",
       "    }\n",
       "\n",
       "    .dataframe thead th {\n",
       "        text-align: right;\n",
       "    }\n",
       "</style>\n",
       "<table border=\"1\" class=\"dataframe\">\n",
       "  <thead>\n",
       "    <tr style=\"text-align: right;\">\n",
       "      <th></th>\n",
       "      <th>watching_television_hours</th>\n",
       "      <th>physical_activity_level_on_the_scale_of_1_10</th>\n",
       "    </tr>\n",
       "  </thead>\n",
       "  <tbody>\n",
       "    <tr>\n",
       "      <th>watching_television_hours</th>\n",
       "      <td>1.000000</td>\n",
       "      <td>0.450307</td>\n",
       "    </tr>\n",
       "    <tr>\n",
       "      <th>physical_activity_level_on_the_scale_of_1_10</th>\n",
       "      <td>0.450307</td>\n",
       "      <td>1.000000</td>\n",
       "    </tr>\n",
       "  </tbody>\n",
       "</table>\n",
       "</div>"
      ],
      "text/plain": [
       "                                              watching_television_hours  \\\n",
       "watching_television_hours                                      1.000000   \n",
       "physical_activity_level_on_the_scale_of_1_10                   0.450307   \n",
       "\n",
       "                                              physical_activity_level_on_the_scale_of_1_10  \n",
       "watching_television_hours                                                         0.450307  \n",
       "physical_activity_level_on_the_scale_of_1_10                                      1.000000  "
      ]
     },
     "execution_count": 23,
     "metadata": {},
     "output_type": "execute_result"
    }
   ],
   "source": [
    "df.corr(method='pearson')"
   ]
  },
  {
   "cell_type": "markdown",
   "id": "c8999cd6-bac0-4187-be9a-493ae0435a16",
   "metadata": {},
   "source": [
    "Q5. A survey was conducted to examine the relationship between age and preference for a particular\n",
    "brand of soft drink. The survey results are shown below:"
   ]
  },
  {
   "cell_type": "code",
   "execution_count": 27,
   "id": "46e9498e-140b-413b-9120-c473b4fdd428",
   "metadata": {},
   "outputs": [],
   "source": [
    "df = pd.DataFrame({\n",
    "    \n",
    "    'Age_Years' : [25,42,37,19,31,28] , \n",
    "    'Soft_drink_Preference' : ['Coke ', 'Pepsi' , 'Mountain_dew' , 'Coke' , 'Pepsi' , 'Coke']\n",
    "\n",
    "})"
   ]
  },
  {
   "cell_type": "code",
   "execution_count": 28,
   "id": "2dd3eeb2-61e4-4721-86dd-06cd7b726e4d",
   "metadata": {},
   "outputs": [
    {
     "name": "stderr",
     "output_type": "stream",
     "text": [
      "/tmp/ipykernel_1443/1545644723.py:1: FutureWarning: The default value of numeric_only in DataFrame.cov is deprecated. In a future version, it will default to False. Select only valid columns or specify the value of numeric_only to silence this warning.\n",
      "  df.cov()\n"
     ]
    },
    {
     "data": {
      "text/html": [
       "<div>\n",
       "<style scoped>\n",
       "    .dataframe tbody tr th:only-of-type {\n",
       "        vertical-align: middle;\n",
       "    }\n",
       "\n",
       "    .dataframe tbody tr th {\n",
       "        vertical-align: top;\n",
       "    }\n",
       "\n",
       "    .dataframe thead th {\n",
       "        text-align: right;\n",
       "    }\n",
       "</style>\n",
       "<table border=\"1\" class=\"dataframe\">\n",
       "  <thead>\n",
       "    <tr style=\"text-align: right;\">\n",
       "      <th></th>\n",
       "      <th>Age_Years</th>\n",
       "    </tr>\n",
       "  </thead>\n",
       "  <tbody>\n",
       "    <tr>\n",
       "      <th>Age_Years</th>\n",
       "      <td>68.666667</td>\n",
       "    </tr>\n",
       "  </tbody>\n",
       "</table>\n",
       "</div>"
      ],
      "text/plain": [
       "           Age_Years\n",
       "Age_Years  68.666667"
      ]
     },
     "execution_count": 28,
     "metadata": {},
     "output_type": "execute_result"
    }
   ],
   "source": [
    "df.cov()"
   ]
  },
  {
   "cell_type": "markdown",
   "id": "0967500a-d29f-498f-aa75-bcd2f6f628dc",
   "metadata": {},
   "source": [
    "Q6. A company is interested in examining the relationship between the number of sales calls made per day\n",
    "and the number of sales made per week. The company collected data on both variables from a sample of\n",
    "30 sales representatives. Calculate the Pearson correlation coefficient between these two variables."
   ]
  },
  {
   "cell_type": "code",
   "execution_count": 25,
   "id": "33804d99-1335-4b09-bb7d-deda39e0b2a3",
   "metadata": {},
   "outputs": [],
   "source": [
    "df = pd.DataFrame({\n",
    "    \n",
    "    'sales_calls_made_per_day' : [45, 22, 17, 38, 51, 29, 42, 36, 13, 24, 58, 31, 47, 19, 27, 33, 56, 41, 16, 23, 49, 35, 11, 39, 43, 21, 28, 52, 46, 15] , \n",
    "\n",
    "    'number_of_sales_made_per_week' : [9, 2, 1, 6, 10, 3, 7, 5, 0, 2, 12, 4, 8, 1, 3, 4, 11, 7, 1, 2, 9, 5, 0, 6, 8, 2, 4, 10, 9, 1]\n",
    "})"
   ]
  },
  {
   "cell_type": "code",
   "execution_count": 26,
   "id": "aeed448a-8952-4792-9940-74bd110d8089",
   "metadata": {},
   "outputs": [
    {
     "data": {
      "text/html": [
       "<div>\n",
       "<style scoped>\n",
       "    .dataframe tbody tr th:only-of-type {\n",
       "        vertical-align: middle;\n",
       "    }\n",
       "\n",
       "    .dataframe tbody tr th {\n",
       "        vertical-align: top;\n",
       "    }\n",
       "\n",
       "    .dataframe thead th {\n",
       "        text-align: right;\n",
       "    }\n",
       "</style>\n",
       "<table border=\"1\" class=\"dataframe\">\n",
       "  <thead>\n",
       "    <tr style=\"text-align: right;\">\n",
       "      <th></th>\n",
       "      <th>sales_calls_made_per_day</th>\n",
       "      <th>number_of_sales_made_per_week</th>\n",
       "    </tr>\n",
       "  </thead>\n",
       "  <tbody>\n",
       "    <tr>\n",
       "      <th>sales_calls_made_per_day</th>\n",
       "      <td>1.000000</td>\n",
       "      <td>0.989542</td>\n",
       "    </tr>\n",
       "    <tr>\n",
       "      <th>number_of_sales_made_per_week</th>\n",
       "      <td>0.989542</td>\n",
       "      <td>1.000000</td>\n",
       "    </tr>\n",
       "  </tbody>\n",
       "</table>\n",
       "</div>"
      ],
      "text/plain": [
       "                               sales_calls_made_per_day  \\\n",
       "sales_calls_made_per_day                       1.000000   \n",
       "number_of_sales_made_per_week                  0.989542   \n",
       "\n",
       "                               number_of_sales_made_per_week  \n",
       "sales_calls_made_per_day                            0.989542  \n",
       "number_of_sales_made_per_week                       1.000000  "
      ]
     },
     "execution_count": 26,
     "metadata": {},
     "output_type": "execute_result"
    }
   ],
   "source": [
    "df.corr(method='pearson')"
   ]
  }
 ],
 "metadata": {
  "kernelspec": {
   "display_name": "Python 3 (ipykernel)",
   "language": "python",
   "name": "python3"
  },
  "language_info": {
   "codemirror_mode": {
    "name": "ipython",
    "version": 3
   },
   "file_extension": ".py",
   "mimetype": "text/x-python",
   "name": "python",
   "nbconvert_exporter": "python",
   "pygments_lexer": "ipython3",
   "version": "3.10.8"
  }
 },
 "nbformat": 4,
 "nbformat_minor": 5
}
